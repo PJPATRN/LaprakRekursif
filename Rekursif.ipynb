{
 "cells": [
  {
   "cell_type": "code",
   "execution_count": 2,
   "metadata": {},
   "outputs": [
    {
     "name": "stdout",
     "output_type": "stream",
     "text": [
      "5\n",
      "4\n",
      "3\n",
      "2\n",
      "1\n",
      "120\n"
     ]
    }
   ],
   "source": [
    "def faktorial(a):\n",
    "    if a == 0 or a == 1:\n",
    "        print(a)\n",
    "        return 1\n",
    "    else:\n",
    "        print(a)\n",
    "        return faktorial(a-1) * a\n",
    "print(faktorial(5))"
   ]
  },
  {
   "cell_type": "code",
   "execution_count": 16,
   "metadata": {},
   "outputs": [
    {
     "name": "stdout",
     "output_type": "stream",
     "text": [
      "2 + 2 + 2 + 2 + 2 + 2 + 2 + 2 + 2 + 2 + 2 + 2 + 2 + 2 + 2 + 2 + 2 + 2 + 2 + 2 + 2 + 2 + 2 + 2 + 2 + 2 + 2 + 2 + 2 + 2 + 2 + 2 + 2 + 2 + 2 + 2 + 2 + 2 + 2 + 2 + 2 + 2 + 2 + 2 + 2 + 2 + 2 + 2 + 2 + 2 + 2 + 2 + 2 + 2 + 2 + 2 + 2 + 2 + 2 + 2 + 2 + 2 + 2 + 2 + 2 + 2 + 2 + 2 + 2 + 2 + 2 + 2 + 2 + 2 + 2 + 2 + 2 + 2 + 2 + 2 + 2 + 2 + 2 + 2 + 2 + 2 + 2 + 2 + 2 + 2 + 2 + 2 + 2 + 2 + 2 + 2 + 2 + 2 + 2 + 2 = 200\n"
     ]
    }
   ],
   "source": [
    "def coba(angka1,angka2):\n",
    "    if angka2 == 1:\n",
    "        print(\"%d =\" % (angka1), end=\" \")\n",
    "        return angka1\n",
    "    else:\n",
    "        print(\"%d +\" % (angka1), end=\" \")\n",
    "        return coba(angka1,angka2-1) + angka1\n",
    "print(coba(2,100))"
   ]
  },
  {
   "cell_type": "code",
   "execution_count": 17,
   "metadata": {},
   "outputs": [
    {
     "name": "stdout",
     "output_type": "stream",
     "text": [
      "32\n"
     ]
    }
   ],
   "source": [
    "def pangkat(bil1,bil2):\n",
    "    if bil2 == 1:\n",
    "        return bil1\n",
    "    else:\n",
    "        return bil1 * (pangkat(bil1,bil2-1))\n",
    "print(pangkat(2,5))"
   ]
  },
  {
   "cell_type": "code",
   "execution_count": 18,
   "metadata": {},
   "outputs": [
    {
     "name": "stdout",
     "output_type": "stream",
     "text": [
      "13\n"
     ]
    }
   ],
   "source": [
    "def fibonacci(inputan):\n",
    "    if inputan == 1 or inputan == 2:\n",
    "        return 1\n",
    "    else:\n",
    "        return fibonacci(inputan - 1) + fibonacci(inputan-2)\n",
    "print(fibonacci(7))"
   ]
  },
  {
   "cell_type": "code",
   "execution_count": 1,
   "metadata": {},
   "outputs": [
    {
     "name": "stdout",
     "output_type": "stream",
     "text": [
      "Jumlah huruf konsonan pada kata 'saya' berjumlah : 2 buah\n"
     ]
    }
   ],
   "source": [
    "def konsonan(kalimat):\n",
    "    huruf_konsonan=[\"b\", \"c\", \"d\", \"f\", \"g\", \"h\", \"j\", \"k\", \"l\", \"m\", \"n\", \"p\", \"q\", \"r\", \"s\", \"t\", \"v\", \"w\", \"x\", \"y\" , \"z\"]\n",
    "    if not kalimat:\n",
    "        return 0\n",
    "    else:\n",
    "        for huruf in huruf_konsonan:\n",
    "            huruf=kalimat[0].lower()\n",
    "            if huruf in huruf_konsonan:\n",
    "                return 1+konsonan(kalimat[1:])\n",
    "            else:\n",
    "                return konsonan(kalimat[1:])\n",
    "  \n",
    "kalimat=input(\"Masukan Kalimat : \")\n",
    "\n",
    "print(f\"Jumlah huruf konsonan pada kata '{kalimat}' berjumlah : {konsonan(kalimat)} buah\")"
   ]
  }
 ],
 "metadata": {
  "kernelspec": {
   "display_name": "Python 3",
   "language": "python",
   "name": "python3"
  },
  "language_info": {
   "codemirror_mode": {
    "name": "ipython",
    "version": 3
   },
   "file_extension": ".py",
   "mimetype": "text/x-python",
   "name": "python",
   "nbconvert_exporter": "python",
   "pygments_lexer": "ipython3",
   "version": "3.11.5"
  }
 },
 "nbformat": 4,
 "nbformat_minor": 2
}
