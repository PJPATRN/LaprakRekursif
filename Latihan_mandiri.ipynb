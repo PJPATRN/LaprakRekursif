{
 "cells": [
  {
   "cell_type": "markdown",
   "metadata": {},
   "source": [
    "Latihan 13.1"
   ]
  },
  {
   "cell_type": "code",
   "execution_count": 5,
   "metadata": {},
   "outputs": [
    {
     "name": "stdout",
     "output_type": "stream",
     "text": [
      "2 adalah bilangan prima\n",
      "3 adalah bilangan prima\n",
      "4 bukan bilangan prima\n",
      "5 adalah bilangan prima\n",
      "16 bukan bilangan prima\n",
      "17 adalah bilangan prima\n",
      "18 bukan bilangan prima\n",
      "19 adalah bilangan prima\n",
      "20 bukan bilangan prima\n"
     ]
    }
   ],
   "source": [
    "def cek_prima(n, pembagi= None):\n",
    "    if n < 2:\n",
    "        return False\n",
    "    if pembagi is None:\n",
    "        pembagi = n - 1\n",
    "    if pembagi == 1:\n",
    "        return True\n",
    "    if n % pembagi == 0:\n",
    "        return False\n",
    "    return cek_prima(n, pembagi - 1)\n",
    "\n",
    "angka_list = [2, 3, 4, 5, 16, 17, 18, 19, 20]\n",
    "\n",
    "for angka in angka_list:\n",
    "    if cek_prima(angka):\n",
    "        print(f\"{angka} adalah bilangan prima\")\n",
    "    else:\n",
    "        print(f\"{angka} bukan bilangan prima\")\n"
   ]
  },
  {
   "cell_type": "markdown",
   "metadata": {},
   "source": [
    "Latihan 13.2"
   ]
  },
  {
   "cell_type": "code",
   "execution_count": 7,
   "metadata": {},
   "outputs": [
    {
     "name": "stdout",
     "output_type": "stream",
     "text": [
      "malam is a palindrome: True\n",
      "pacarku is a palindrome: False\n",
      "pophanpopnahpop is a palindrome: True\n"
     ]
    }
   ],
   "source": [
    "def is_palindrome(sentence):\n",
    "    sentence = sentence.lower().replace(\" \", \"\")\n",
    "    if len(sentence) <= 1:\n",
    "        return True\n",
    "    return sentence[0] == sentence[-1] and is_palindrome(sentence[1:-1])\n",
    "sentence1 = \"malam\"\n",
    "sentence2 = \"pacarku\"\n",
    "sentence3 = \"pophanpopnahpop\"\n",
    "\n",
    "print(f\"{sentence1} is a palindrome: {is_palindrome(sentence1)}\")\n",
    "print(f\"{sentence2} is a palindrome: {is_palindrome(sentence2)}\")\n",
    "print(f\"{sentence3} is a palindrome: {is_palindrome(sentence3)}\")"
   ]
  },
  {
   "cell_type": "markdown",
   "metadata": {},
   "source": [
    "Latihan 13.3"
   ]
  },
  {
   "cell_type": "code",
   "execution_count": 9,
   "metadata": {},
   "outputs": [
    {
     "data": {
      "text/plain": [
       "15"
      ]
     },
     "execution_count": 9,
     "metadata": {},
     "output_type": "execute_result"
    }
   ],
   "source": [
    "def rekursif(n):\n",
    "    if n == 1:\n",
    "        return 1\n",
    "    else:\n",
    "        return n + (rekursif(n-1))\n",
    "rekursif(5)"
   ]
  },
  {
   "cell_type": "markdown",
   "metadata": {},
   "source": [
    "Latihan 13.4"
   ]
  },
  {
   "cell_type": "code",
   "execution_count": 23,
   "metadata": {},
   "outputs": [
    {
     "name": "stdout",
     "output_type": "stream",
     "text": [
      "9\n"
     ]
    }
   ],
   "source": [
    "def jumlahinput(n):\n",
    "    nilai = str(n)\n",
    "    if len(nilai) == 1:\n",
    "        return int(nilai)\n",
    "    total = 0\n",
    "    for digit in nilai:\n",
    "        total += int(digit)\n",
    "    return total\n",
    "hasil = jumlahinput(54)\n",
    "print(hasil)\n"
   ]
  },
  {
   "cell_type": "markdown",
   "metadata": {},
   "source": [
    "Latihan 13.5"
   ]
  },
  {
   "cell_type": "code",
   "execution_count": null,
   "metadata": {},
   "outputs": [],
   "source": [
    "def kombinasi(n, r):\n",
    "  if r > n:\n",
    "    return 0\n",
    "  if r == 0 or r == n:\n",
    "    return 1\n",
    "  return kombinasi(n - 1, r - 1) + kombinasi(n - 1, r)"
   ]
  }
 ],
 "metadata": {
  "kernelspec": {
   "display_name": "Python 3",
   "language": "python",
   "name": "python3"
  },
  "language_info": {
   "codemirror_mode": {
    "name": "ipython",
    "version": 3
   },
   "file_extension": ".py",
   "mimetype": "text/x-python",
   "name": "python",
   "nbconvert_exporter": "python",
   "pygments_lexer": "ipython3",
   "version": "3.11.5"
  }
 },
 "nbformat": 4,
 "nbformat_minor": 2
}
